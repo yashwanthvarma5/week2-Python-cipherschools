{
  "nbformat": 4,
  "nbformat_minor": 0,
  "metadata": {
    "colab": {
      "provenance": [],
      "include_colab_link": true
    },
    "kernelspec": {
      "name": "python3",
      "display_name": "Python 3"
    },
    "language_info": {
      "name": "python"
    }
  },
  "cells": [
    {
      "cell_type": "markdown",
      "metadata": {
        "id": "view-in-github",
        "colab_type": "text"
      },
      "source": [
        "<a href=\"https://colab.research.google.com/github/githubashmit/week2-Python-CipherSchools/blob/main/class9-Introduction_to_Functions-CipherSchools.ipynb\" target=\"_parent\"><img src=\"https://colab.research.google.com/assets/colab-badge.svg\" alt=\"Open In Colab\"/></a>"
      ]
    },
    {
      "cell_type": "code",
      "execution_count": 2,
      "metadata": {
        "id": "ndAPWMyH4VwS",
        "colab": {
          "base_uri": "https://localhost:8080/"
        },
        "outputId": "cd791f25-7a3a-4ca6-c1e6-2aff9c99b473"
      },
      "outputs": [
        {
          "output_type": "stream",
          "name": "stdout",
          "text": [
            "12\n",
            "waiting...\n",
            "waiting...\n",
            "waiting...\n",
            "-2\n",
            "waiting...\n",
            "waiting...\n",
            "waiting...\n",
            "35\n",
            "waiting...\n",
            "waiting...\n",
            "waiting...\n"
          ]
        }
      ],
      "source": [
        "a=5\n",
        "b=7\n",
        "print(a+b)\n",
        "print(\"waiting...\")\n",
        "print(\"waiting...\")\n",
        "print(\"waiting...\")\n",
        "\n",
        "print(a-b)\n",
        "print(\"waiting...\")\n",
        "print(\"waiting...\")\n",
        "print(\"waiting...\")\n",
        "\n",
        "print(a*b)\n",
        "print(\"waiting...\")\n",
        "print(\"waiting...\")\n",
        "print(\"waiting...\")"
      ]
    },
    {
      "cell_type": "code",
      "source": [
        "a=5\n",
        "b=7\n",
        "print(a+b)\n",
        "print(\"loading...\")\n",
        "print(\"loading...\")\n",
        "print(\"loading...\")\n",
        "\n",
        "print(a-b)\n",
        "print(\"loading...\")\n",
        "print(\"loading...\")\n",
        "print(\"loading...\")\n",
        "\n",
        "print(a*b)\n",
        "print(\"loading...\")\n",
        "print(\"loading...\")\n",
        "print(\"loading...\")\n"
      ],
      "metadata": {
        "id": "Zv6LD46NNAen"
      },
      "execution_count": null,
      "outputs": []
    },
    {
      "cell_type": "code",
      "source": [
        "x=6\n",
        "x=\"jatin\"\n",
        "x=1.5\n",
        "x=print"
      ],
      "metadata": {
        "id": "HM32sfzJM1cV"
      },
      "execution_count": null,
      "outputs": []
    },
    {
      "cell_type": "code",
      "source": [
        "def shoow_loading():\n",
        "  for i in range(3):\n",
        "    print(\"loading....\")\n",
        "a=5\n",
        "b=7\n",
        "print(a+b)\n",
        "shoow_loading()\n",
        "\n",
        "print(a-b)\n",
        "shoow_loading()\n",
        "\n",
        "print(a*b)\n",
        "shoow_loading()"
      ],
      "metadata": {
        "colab": {
          "base_uri": "https://localhost:8080/"
        },
        "id": "gsby4rrlNhql",
        "outputId": "bde7218b-d299-4929-d0ae-2db59ff08917"
      },
      "execution_count": 9,
      "outputs": [
        {
          "output_type": "stream",
          "name": "stdout",
          "text": [
            "12\n",
            "loading....\n",
            "loading....\n",
            "loading....\n",
            "-2\n",
            "loading....\n",
            "loading....\n",
            "loading....\n",
            "35\n",
            "loading....\n",
            "loading....\n",
            "loading....\n"
          ]
        }
      ]
    },
    {
      "cell_type": "code",
      "source": [
        "def shoow_loading():\n",
        "  for i in range(3):\n",
        "    print(i)\n",
        "    print(\"loading....\")\n",
        "shoow_loading()"
      ],
      "metadata": {
        "colab": {
          "base_uri": "https://localhost:8080/"
        },
        "id": "xWDH_gOTQdJp",
        "outputId": "eacfb974-248d-4478-a89f-3826a008d2d5"
      },
      "execution_count": 12,
      "outputs": [
        {
          "output_type": "stream",
          "name": "stdout",
          "text": [
            "0\n",
            "loading....\n",
            "1\n",
            "loading....\n",
            "2\n",
            "loading....\n"
          ]
        }
      ]
    },
    {
      "cell_type": "code",
      "source": [
        "def show_loading():\n",
        "  for i in range(3):\n",
        "      print(\"loading\", \".\"*(i+1))\n",
        "show_loading()"
      ],
      "metadata": {
        "id": "ELMAsnJeLlm2",
        "colab": {
          "base_uri": "https://localhost:8080/"
        },
        "outputId": "bb1118fe-fc5b-4eb5-b5ed-0ceec11e2b57"
      },
      "execution_count": 13,
      "outputs": [
        {
          "output_type": "stream",
          "name": "stdout",
          "text": [
            "loading .\n",
            "loading ..\n",
            "loading ...\n"
          ]
        }
      ]
    },
    {
      "cell_type": "markdown",
      "source": [
        "Functions can take parameters"
      ],
      "metadata": {
        "id": "Jy90n0AM_F_I"
      }
    },
    {
      "cell_type": "code",
      "source": [
        "def sheldon_knock():\n",
        "  for _ in range(3):\n",
        "    print(\"knock knock knock penny\")\n",
        "sheldon_knock()"
      ],
      "metadata": {
        "colab": {
          "base_uri": "https://localhost:8080/"
        },
        "id": "_Xd38JN2RTQe",
        "outputId": "061f5669-efc8-4a32-9a3e-6a29e1c930ef"
      },
      "execution_count": 16,
      "outputs": [
        {
          "output_type": "stream",
          "name": "stdout",
          "text": [
            "knock knock knock penny\n",
            "knock knock knock penny\n",
            "knock knock knock penny\n"
          ]
        }
      ]
    },
    {
      "cell_type": "code",
      "source": [
        "def sheldon_knock(name):\n",
        "  for i in range(3):\n",
        "     print(\"knock knock knock\", name)\n",
        "sheldon_knock(\"leopard\")     "
      ],
      "metadata": {
        "colab": {
          "base_uri": "https://localhost:8080/"
        },
        "id": "4pDFCjlP_Mqi",
        "outputId": "f3cbd6b3-9eee-4853-c622-875c8be287b9"
      },
      "execution_count": 17,
      "outputs": [
        {
          "output_type": "stream",
          "name": "stdout",
          "text": [
            "knock knock knock leopard\n",
            "knock knock knock leopard\n",
            "knock knock knock leopard\n"
          ]
        }
      ]
    },
    {
      "cell_type": "code",
      "source": [
        "def sheldon_knock(name, times = 3):\n",
        "  for i in range(times):\n",
        "    print(\"knock knock knock\", name)\n",
        "sheldon_knock(\"penny\",100)   "
      ],
      "metadata": {
        "colab": {
          "base_uri": "https://localhost:8080/"
        },
        "id": "xkUtmXSRAU7x",
        "outputId": "7f042269-6489-42b1-f09e-f0c08f7d826a"
      },
      "execution_count": 18,
      "outputs": [
        {
          "output_type": "stream",
          "name": "stdout",
          "text": [
            "knock knock knock penny\n",
            "knock knock knock penny\n",
            "knock knock knock penny\n",
            "knock knock knock penny\n",
            "knock knock knock penny\n",
            "knock knock knock penny\n",
            "knock knock knock penny\n",
            "knock knock knock penny\n",
            "knock knock knock penny\n",
            "knock knock knock penny\n",
            "knock knock knock penny\n",
            "knock knock knock penny\n",
            "knock knock knock penny\n",
            "knock knock knock penny\n",
            "knock knock knock penny\n",
            "knock knock knock penny\n",
            "knock knock knock penny\n",
            "knock knock knock penny\n",
            "knock knock knock penny\n",
            "knock knock knock penny\n",
            "knock knock knock penny\n",
            "knock knock knock penny\n",
            "knock knock knock penny\n",
            "knock knock knock penny\n",
            "knock knock knock penny\n",
            "knock knock knock penny\n",
            "knock knock knock penny\n",
            "knock knock knock penny\n",
            "knock knock knock penny\n",
            "knock knock knock penny\n",
            "knock knock knock penny\n",
            "knock knock knock penny\n",
            "knock knock knock penny\n",
            "knock knock knock penny\n",
            "knock knock knock penny\n",
            "knock knock knock penny\n",
            "knock knock knock penny\n",
            "knock knock knock penny\n",
            "knock knock knock penny\n",
            "knock knock knock penny\n",
            "knock knock knock penny\n",
            "knock knock knock penny\n",
            "knock knock knock penny\n",
            "knock knock knock penny\n",
            "knock knock knock penny\n",
            "knock knock knock penny\n",
            "knock knock knock penny\n",
            "knock knock knock penny\n",
            "knock knock knock penny\n",
            "knock knock knock penny\n",
            "knock knock knock penny\n",
            "knock knock knock penny\n",
            "knock knock knock penny\n",
            "knock knock knock penny\n",
            "knock knock knock penny\n",
            "knock knock knock penny\n",
            "knock knock knock penny\n",
            "knock knock knock penny\n",
            "knock knock knock penny\n",
            "knock knock knock penny\n",
            "knock knock knock penny\n",
            "knock knock knock penny\n",
            "knock knock knock penny\n",
            "knock knock knock penny\n",
            "knock knock knock penny\n",
            "knock knock knock penny\n",
            "knock knock knock penny\n",
            "knock knock knock penny\n",
            "knock knock knock penny\n",
            "knock knock knock penny\n",
            "knock knock knock penny\n",
            "knock knock knock penny\n",
            "knock knock knock penny\n",
            "knock knock knock penny\n",
            "knock knock knock penny\n",
            "knock knock knock penny\n",
            "knock knock knock penny\n",
            "knock knock knock penny\n",
            "knock knock knock penny\n",
            "knock knock knock penny\n",
            "knock knock knock penny\n",
            "knock knock knock penny\n",
            "knock knock knock penny\n",
            "knock knock knock penny\n",
            "knock knock knock penny\n",
            "knock knock knock penny\n",
            "knock knock knock penny\n",
            "knock knock knock penny\n",
            "knock knock knock penny\n",
            "knock knock knock penny\n",
            "knock knock knock penny\n",
            "knock knock knock penny\n",
            "knock knock knock penny\n",
            "knock knock knock penny\n",
            "knock knock knock penny\n",
            "knock knock knock penny\n",
            "knock knock knock penny\n",
            "knock knock knock penny\n",
            "knock knock knock penny\n",
            "knock knock knock penny\n"
          ]
        }
      ]
    },
    {
      "cell_type": "markdown",
      "source": [
        "**Return statement**"
      ],
      "metadata": {
        "id": "chSFzevSBB28"
      }
    },
    {
      "cell_type": "code",
      "source": [
        "def add(a, b):\n",
        "  return a+b\n",
        "a=add(1,2)\n",
        "print(a)\n"
      ],
      "metadata": {
        "colab": {
          "base_uri": "https://localhost:8080/"
        },
        "id": "M-YL45wCBHNk",
        "outputId": "d9aabdc3-7dfd-43c3-8be5-1beba4e85d71"
      },
      "execution_count": 19,
      "outputs": [
        {
          "output_type": "stream",
          "name": "stdout",
          "text": [
            "3\n"
          ]
        }
      ]
    }
  ]
}