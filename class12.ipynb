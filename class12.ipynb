{
  "nbformat": 4,
  "nbformat_minor": 0,
  "metadata": {
    "colab": {
      "provenance": [],
      "authorship_tag": "ABX9TyMGggIafJ9fauwX/XXUYwoI",
      "include_colab_link": true
    },
    "kernelspec": {
      "name": "python3",
      "display_name": "Python 3"
    },
    "language_info": {
      "name": "python"
    }
  },
  "cells": [
    {
      "cell_type": "markdown",
      "metadata": {
        "id": "view-in-github",
        "colab_type": "text"
      },
      "source": [
        "<a href=\"https://colab.research.google.com/github/githubashmit/week2-Python-CipherSchools/blob/main/class12_StringOperations_CipherSchools.ipynb\" target=\"_parent\"><img src=\"https://colab.research.google.com/assets/colab-badge.svg\" alt=\"Open In Colab\"/></a>"
      ]
    },
    {
      "cell_type": "code",
      "execution_count": 12,
      "metadata": {
        "colab": {
          "base_uri": "https://localhost:8080/"
        },
        "id": "7uDKVoct9BDj",
        "outputId": "1fb9fb31-f04d-406e-86fa-8d02746165e9"
      },
      "outputs": [
        {
          "output_type": "stream",
          "name": "stdout",
          "text": [
            "value of a is 5\n",
            "value of a is 5 2\n"
          ]
        }
      ],
      "source": [
        "#String formating or String Interpolation\n",
        "a=5\n",
        "print(\"value of a is %d\" % (a))\n",
        "print(\"value of a is {} {}\".format(a,2))"
      ]
    },
    {
      "cell_type": "code",
      "source": [
        "a , b ,c=1,2,3\n",
        "\"a={} , b={} ,c = {}  \".format(a , b , c)"
      ],
      "metadata": {
        "colab": {
          "base_uri": "https://localhost:8080/",
          "height": 36
        },
        "id": "X2akKorR_14l",
        "outputId": "d51ef497-e9e3-4d5e-82e0-1115d02d8725"
      },
      "execution_count": 2,
      "outputs": [
        {
          "output_type": "execute_result",
          "data": {
            "text/plain": [
              "'a=1 , b=2 ,c = 3 '"
            ],
            "application/vnd.google.colaboratory.intrinsic+json": {
              "type": "string"
            }
          },
          "metadata": {},
          "execution_count": 2
        }
      ]
    },
    {
      "cell_type": "code",
      "source": [
        "a , b ,c=1,2,3\n",
        "\"a={2} , b={1} ,c = {0} \".format(c , b , a)   #here Index value used "
      ],
      "metadata": {
        "colab": {
          "base_uri": "https://localhost:8080/",
          "height": 36
        },
        "id": "mK6I-Vi9ARzb",
        "outputId": "121bfac2-c3ab-487b-e024-37bd3439aa12"
      },
      "execution_count": 3,
      "outputs": [
        {
          "output_type": "execute_result",
          "data": {
            "text/plain": [
              "'a=1 , b=2 ,c = 3 '"
            ],
            "application/vnd.google.colaboratory.intrinsic+json": {
              "type": "string"
            }
          },
          "metadata": {},
          "execution_count": 3
        }
      ]
    },
    {
      "cell_type": "code",
      "source": [
        "name = \"Jatin Katyal\"\n",
        "company =\"Shuttl\"\n",
        "\"name = {name} company={company}\".format(name=name , company=company)"
      ],
      "metadata": {
        "colab": {
          "base_uri": "https://localhost:8080/",
          "height": 36
        },
        "id": "DmvVLyiIAgWQ",
        "outputId": "f9d2672a-eca0-49f6-afb8-0a99b080ad2f"
      },
      "execution_count": 4,
      "outputs": [
        {
          "output_type": "execute_result",
          "data": {
            "text/plain": [
              "'name = Jatin Katyal company=Shuttl'"
            ],
            "application/vnd.google.colaboratory.intrinsic+json": {
              "type": "string"
            }
          },
          "metadata": {},
          "execution_count": 4
        }
      ]
    },
    {
      "cell_type": "code",
      "source": [
        "name = \"Jatin Katyal\"\n",
        "company =\"Shuttl\"\n",
        "\"hello i am {name} and i am working in {company}\".format(name=name , company=company)"
      ],
      "metadata": {
        "colab": {
          "base_uri": "https://localhost:8080/",
          "height": 36
        },
        "id": "pZLijBY1CA5S",
        "outputId": "5b228f64-e663-4c02-e6cd-f6dd182a8dc6"
      },
      "execution_count": 11,
      "outputs": [
        {
          "output_type": "execute_result",
          "data": {
            "text/plain": [
              "'hello i am Jatin Katyal and i am working in Shuttl'"
            ],
            "application/vnd.google.colaboratory.intrinsic+json": {
              "type": "string"
            }
          },
          "metadata": {},
          "execution_count": 11
        }
      ]
    },
    {
      "cell_type": "code",
      "source": [
        "print(f\"name=()\")"
      ],
      "metadata": {
        "colab": {
          "base_uri": "https://localhost:8080/"
        },
        "id": "VduBmmG-A7Ff",
        "outputId": "b6a786cb-10b6-42ee-e10c-a45d8cbde0e9"
      },
      "execution_count": 8,
      "outputs": [
        {
          "output_type": "stream",
          "name": "stdout",
          "text": [
            "name=()\n"
          ]
        }
      ]
    },
    {
      "cell_type": "code",
      "source": [
        "print(\"name={name}\")"
      ],
      "metadata": {
        "colab": {
          "base_uri": "https://localhost:8080/"
        },
        "id": "gM7nyfGjDiRv",
        "outputId": "e22b9683-4cde-4828-efe0-4d7e2e7fcce4"
      },
      "execution_count": 13,
      "outputs": [
        {
          "output_type": "stream",
          "name": "stdout",
          "text": [
            "name={name}\n"
          ]
        }
      ]
    },
    {
      "cell_type": "code",
      "source": [
        "print(f\"name={name}\")"
      ],
      "metadata": {
        "colab": {
          "base_uri": "https://localhost:8080/"
        },
        "id": "mLLADbQtBa5c",
        "outputId": "7a672855-42ed-4fbc-9716-0cf6f4a6e887"
      },
      "execution_count": 9,
      "outputs": [
        {
          "output_type": "stream",
          "name": "stdout",
          "text": [
            "name=Jatin Katyal\n"
          ]
        }
      ]
    },
    {
      "cell_type": "code",
      "source": [
        "print(f\"name={1+2}\")"
      ],
      "metadata": {
        "colab": {
          "base_uri": "https://localhost:8080/"
        },
        "id": "6zUUZLauBlKk",
        "outputId": "9c5c13e6-4577-4891-9b7c-900439ffd6e1"
      },
      "execution_count": 10,
      "outputs": [
        {
          "output_type": "stream",
          "name": "stdout",
          "text": [
            "name=3\n"
          ]
        }
      ]
    },
    {
      "cell_type": "code",
      "source": [
        "print(f\"name={10/3}\")"
      ],
      "metadata": {
        "colab": {
          "base_uri": "https://localhost:8080/"
        },
        "id": "8I65jJeIDahT",
        "outputId": "8c3c2cb9-4b4b-41fe-8544-eec86f27c343"
      },
      "execution_count": 14,
      "outputs": [
        {
          "output_type": "stream",
          "name": "stdout",
          "text": [
            "name=3.3333333333333335\n"
          ]
        }
      ]
    },
    {
      "cell_type": "code",
      "source": [
        "len(r\"a\\nb\")"
      ],
      "metadata": {
        "colab": {
          "base_uri": "https://localhost:8080/"
        },
        "id": "pdyQuyWuDv_2",
        "outputId": "66d1abe7-1c92-45b2-9935-dff0bda16da5"
      },
      "execution_count": 15,
      "outputs": [
        {
          "output_type": "execute_result",
          "data": {
            "text/plain": [
              "4"
            ]
          },
          "metadata": {},
          "execution_count": 15
        }
      ]
    },
    {
      "cell_type": "code",
      "source": [
        "for c in r\"a\\nb\":\n",
        "  print(c)"
      ],
      "metadata": {
        "colab": {
          "base_uri": "https://localhost:8080/"
        },
        "id": "3Oimtc1_EYUm",
        "outputId": "8b0dae17-45e6-4db1-ed91-65c7a4695c16"
      },
      "execution_count": 16,
      "outputs": [
        {
          "output_type": "stream",
          "name": "stdout",
          "text": [
            "a\n",
            "\\\n",
            "n\n",
            "b\n"
          ]
        }
      ]
    },
    {
      "cell_type": "code",
      "source": [
        "\"    jatin         \".strip()"
      ],
      "metadata": {
        "colab": {
          "base_uri": "https://localhost:8080/",
          "height": 36
        },
        "id": "DBhs5NK7EsEj",
        "outputId": "64b1b87f-d8f0-471a-83b4-96dc85601d86"
      },
      "execution_count": 17,
      "outputs": [
        {
          "output_type": "execute_result",
          "data": {
            "text/plain": [
              "'jatin'"
            ],
            "application/vnd.google.colaboratory.intrinsic+json": {
              "type": "string"
            }
          },
          "metadata": {},
          "execution_count": 17
        }
      ]
    },
    {
      "cell_type": "code",
      "source": [
        "\"1 , 2 , 3 , 4, 5\".split(\",\")"
      ],
      "metadata": {
        "colab": {
          "base_uri": "https://localhost:8080/"
        },
        "id": "R7xB0gNkGl92",
        "outputId": "4aa7581d-d7c2-4997-b583-319ecb2cac7b"
      },
      "execution_count": 18,
      "outputs": [
        {
          "output_type": "execute_result",
          "data": {
            "text/plain": [
              "['1 ', ' 2 ', ' 3 ', ' 4', ' 5']"
            ]
          },
          "metadata": {},
          "execution_count": 18
        }
      ]
    },
    {
      "cell_type": "code",
      "source": [
        "\"jatin Katyal\".replace(\"a\",\"z\")"
      ],
      "metadata": {
        "colab": {
          "base_uri": "https://localhost:8080/",
          "height": 36
        },
        "id": "Hv4OFgM0GxlW",
        "outputId": "e5e1ccf1-5d49-4bba-9689-7348ebb2cfac"
      },
      "execution_count": 19,
      "outputs": [
        {
          "output_type": "execute_result",
          "data": {
            "text/plain": [
              "'jztin Kztyzl'"
            ],
            "application/vnd.google.colaboratory.intrinsic+json": {
              "type": "string"
            }
          },
          "metadata": {},
          "execution_count": 19
        }
      ]
    },
    {
      "cell_type": "code",
      "source": [
        "\"jatin katyal\".count(\"a\")"
      ],
      "metadata": {
        "colab": {
          "base_uri": "https://localhost:8080/"
        },
        "id": "oX8Lmh1UHCL9",
        "outputId": "02c4d87d-59c7-463c-b62d-3b756bcb8167"
      },
      "execution_count": 20,
      "outputs": [
        {
          "output_type": "execute_result",
          "data": {
            "text/plain": [
              "3"
            ]
          },
          "metadata": {},
          "execution_count": 20
        }
      ]
    }
  ]
}