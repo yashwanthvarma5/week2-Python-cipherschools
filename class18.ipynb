{
  "nbformat": 4,
  "nbformat_minor": 0,
  "metadata": {
    "colab": {
      "provenance": [],
      "authorship_tag": "ABX9TyP1qJokRBQ6Giovuq4rFeSb",
      "include_colab_link": true
    },
    "kernelspec": {
      "name": "python3",
      "display_name": "Python 3"
    },
    "language_info": {
      "name": "python"
    }
  },
  "cells": [
    {
      "cell_type": "markdown",
      "metadata": {
        "id": "view-in-github",
        "colab_type": "text"
      },
      "source": [
        "<a href=\"https://colab.research.google.com/github/githubashmit/week2-Python-CipherSchools/blob/main/class18-Dunders-CipherSchools.ipynb\" target=\"_parent\"><img src=\"https://colab.research.google.com/assets/colab-badge.svg\" alt=\"Open In Colab\"/></a>"
      ]
    },
    {
      "cell_type": "code",
      "execution_count": null,
      "metadata": {
        "colab": {
          "base_uri": "https://localhost:8080/"
        },
        "id": "xHBEnNH7jTsU",
        "outputId": "8c72ae00-7042-4a0d-fc34-1a3fa53edc99"
      },
      "outputs": [
        {
          "output_type": "stream",
          "name": "stdout",
          "text": [
            "hello, my name is Nikhil\n"
          ]
        }
      ],
      "source": [
        "# Dunders(magic methods)(event methods)\n",
        "#__<name of dunder>__\n",
        "class Person:\n",
        "  def __init__(self,name):\n",
        "    self.name=name\n",
        "  def say_hi(self):\n",
        "      print('hello, my name is',self.name)\n",
        "P=Person('Nikhil')\n",
        "P.say_hi()"
      ]
    },
    {
      "cell_type": "code",
      "source": [
        "class A:\n",
        "  def __init__(self):\n",
        "    print(self)\n",
        "    print(\"initialized\")\n",
        "  def __del__(self):\n",
        "    print(self)\n",
        "    print(\"I am dying\")\n",
        "a=A()"
      ],
      "metadata": {
        "colab": {
          "base_uri": "https://localhost:8080/"
        },
        "id": "Ed2DbXxInMod",
        "outputId": "05378548-ee43-4fad-886e-a656f1cc7feb"
      },
      "execution_count": null,
      "outputs": [
        {
          "output_type": "stream",
          "name": "stdout",
          "text": [
            "<__main__.A object at 0x7f26e3e873a0>\n",
            "initialized\n"
          ]
        }
      ]
    },
    {
      "cell_type": "code",
      "source": [
        "a=1\n",
        "print(type(a))\n",
        "a+5\n",
        "a.__add__(5)"
      ],
      "metadata": {
        "colab": {
          "base_uri": "https://localhost:8080/"
        },
        "id": "bTyPZKhqenYU",
        "outputId": "a2e8f340-3d04-4705-9010-17c007862f85"
      },
      "execution_count": 3,
      "outputs": [
        {
          "output_type": "stream",
          "name": "stdout",
          "text": [
            "<class 'int'>\n"
          ]
        },
        {
          "output_type": "execute_result",
          "data": {
            "text/plain": [
              "6"
            ]
          },
          "metadata": {},
          "execution_count": 3
        }
      ]
    },
    {
      "cell_type": "code",
      "source": [
        "\"jatin\"*2"
      ],
      "metadata": {
        "colab": {
          "base_uri": "https://localhost:8080/",
          "height": 36
        },
        "id": "XgRIJ3fAezGr",
        "outputId": "070dded1-6199-4939-ec08-8b891d14414b"
      },
      "execution_count": 4,
      "outputs": [
        {
          "output_type": "execute_result",
          "data": {
            "text/plain": [
              "'jatinjatin'"
            ],
            "application/vnd.google.colaboratory.intrinsic+json": {
              "type": "string"
            }
          },
          "metadata": {},
          "execution_count": 4
        }
      ]
    },
    {
      "cell_type": "code",
      "source": [
        "\"jatin\".__mul__(2)"
      ],
      "metadata": {
        "colab": {
          "base_uri": "https://localhost:8080/",
          "height": 36
        },
        "id": "SU6GTRf-e4Cb",
        "outputId": "5a0a7de9-8c3a-4cba-e118-08ec7e4d0480"
      },
      "execution_count": 5,
      "outputs": [
        {
          "output_type": "execute_result",
          "data": {
            "text/plain": [
              "'jatinjatin'"
            ],
            "application/vnd.google.colaboratory.intrinsic+json": {
              "type": "string"
            }
          },
          "metadata": {},
          "execution_count": 5
        }
      ]
    },
    {
      "cell_type": "code",
      "source": [
        "class A:\n",
        "  a=1\n",
        "  b=2\n",
        "\n",
        "  def __add__(self,x):\n",
        "    return self.a+self.b+x\n",
        "a=A()\n",
        "a+3"
      ],
      "metadata": {
        "colab": {
          "base_uri": "https://localhost:8080/"
        },
        "id": "VfIplu_ynxbA",
        "outputId": "c9ad391f-6e1a-4252-a8c3-52cafa20061c"
      },
      "execution_count": 7,
      "outputs": [
        {
          "output_type": "execute_result",
          "data": {
            "text/plain": [
              "6"
            ]
          },
          "metadata": {},
          "execution_count": 7
        }
      ]
    }
  ]
}